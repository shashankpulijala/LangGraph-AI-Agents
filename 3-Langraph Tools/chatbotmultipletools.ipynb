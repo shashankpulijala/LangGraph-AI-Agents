{
 "cells": [
  {
   "cell_type": "code",
   "execution_count": 1,
   "metadata": {},
   "outputs": [],
   "source": [
    "from langchain_community.tools import ArxivQueryRun, WikipediaQueryRun\n",
    "from langchain_community.utilities import WikipediaAPIWrapper, ArxivAPIWrapper"
   ]
  },
  {
   "cell_type": "markdown",
   "metadata": {},
   "source": [
    "##### Lets Build an LLM which has access to ARXIV tool, Wikipedia tool and Tavily tool. \n",
    "##### Then lets build a Langgraph which can use these and give results\n",
    "##### We can try out different Agentic Patterns using the Langgraph \n",
    "##### Using ReAct Pattern"
   ]
  },
  {
   "cell_type": "code",
   "execution_count": null,
   "metadata": {},
   "outputs": [
    {
     "name": "stdout",
     "output_type": "stream",
     "text": [
      "arxiv\n"
     ]
    }
   ],
   "source": [
    "#Arxiv tool\n",
    "api_wrapper_arxiv = ArxivAPIWrapper(top_k_results=2, doc_content_chars_max= 500,)\n",
    "arxiv = ArxivQueryRun(api_wrapper=api_wrapper_arxiv, description=\"Query Arxiv Papers\")\n",
    "print(arxiv.name)"
   ]
  },
  {
   "cell_type": "code",
   "execution_count": null,
   "metadata": {},
   "outputs": [
    {
     "name": "stdout",
     "output_type": "stream",
     "text": [
      "wikipedia\n"
     ]
    }
   ],
   "source": [
    "# Wikipedia tool\n",
    "api_wrapper_wiki = WikipediaAPIWrapper(top_k_results=2, doc_content_chars_max= 500,)\n",
    "wiki = WikipediaQueryRun(api_wrapper=api_wrapper_wiki)\n",
    "print(wiki.name)"
   ]
  },
  {
   "cell_type": "code",
   "execution_count": 4,
   "metadata": {},
   "outputs": [
    {
     "data": {
      "text/plain": [
       "'Page: Attention Is All You Need\\nSummary: \"Attention Is All You Need\" is a 2017 landmark research paper in machine learning authored by eight scientists working at Google. The paper introduced a new deep learning architecture known as the transformer, based on the attention mechanism proposed in 2014 by Bahdanau et al. It is considered a foundational paper in modern artificial intelligence, and a main contributor to the AI boom, as the transformer approach has become the main architecture of a wi'"
      ]
     },
     "execution_count": 4,
     "metadata": {},
     "output_type": "execute_result"
    }
   ],
   "source": [
    "wiki.invoke(\"Attention is all you need\")"
   ]
  },
  {
   "cell_type": "code",
   "execution_count": 5,
   "metadata": {},
   "outputs": [
    {
     "data": {
      "text/plain": [
       "\"Published: 2024-07-22\\nTitle: Attention Is All You Need But You Don't Need All Of It For Inference of Large Language Models\\nAuthors: Georgy Tyukin, Gbetondji J-S Dovonon, Jean Kaddour, Pasquale Minervini\\nSummary: The inference demand for LLMs has skyrocketed in recent months, and serving\\nmodels with low latencies remains challenging due to the quadratic input length\\ncomplexity of the attention layers. In this work, we investigate the effect of\\ndropping MLP and attention layers at inference time o\""
      ]
     },
     "execution_count": 5,
     "metadata": {},
     "output_type": "execute_result"
    }
   ],
   "source": [
    "arxiv.invoke(\"Attention is all you need\")"
   ]
  },
  {
   "cell_type": "code",
   "execution_count": 6,
   "metadata": {},
   "outputs": [],
   "source": [
    "from dotenv import load_dotenv\n",
    "load_dotenv()\n",
    "import os\n",
    "os.environ[\"TAVILY_API_KEY\"] = os.getenv(\"TAVILY_API_KEY\")\n",
    "os.environ[\"GROQ_API_KEY\"] = os.getenv(\"GROQ_API_KEY\")"
   ]
  },
  {
   "cell_type": "code",
   "execution_count": null,
   "metadata": {},
   "outputs": [],
   "source": [
    "# Tavily tool\n",
    "from langchain_community.tools.tavily_search import TavilySearchResults\n",
    "tavily = TavilySearchResults()"
   ]
  },
  {
   "cell_type": "code",
   "execution_count": 8,
   "metadata": {},
   "outputs": [
    {
     "data": {
      "text/plain": [
       "[{'title': 'AI News | Latest AI News, Analysis & Events',\n",
       "  'url': 'https://www.artificialintelligence-news.com/',\n",
       "  'content': 'March 4, 2025\\nAutoscience Carl: The first AI scientist writing peer-reviewed papers\\nApplications\\nMarch 3, 2025\\nDeep Learning\\nAlibaba Qwen QwQ-32B: Scaled reinforcement learning showcase\\nArtificial Intelligence\\nMarch 6, 2025\\nDeepSeek-R1 reasoning models rival OpenAI in performance\\nArtificial Intelligence\\nJanuary 20, 2025\\nNew AI training techniques aim to overcome current challenges\\nDeep & Reinforcement Learning\\nNovember 28, 2024 [...] AI News\\nMarch 20, 2025\\nUK minister in US to pitch Britain as global AI investment hub\\n\\nTelecoms Tech News\\nMarch 20, 2025\\nOfcom plans rules to drive UK full-fibre broadband to 96% coverage\\n\\nMarketing Tech News\\nMarch 20, 2025\\nOracle continues talks with White House to run TikTok\\n\\nMarketing Tech News\\nMarch 19, 2025\\nSocial media platforms face fines and criminal prosecution in UK\\n\\nAI News\\nMarch 19, 2025\\nNVIDIA Dynamo: Scaling AI inference with open-source efficiency [...] Artificial Intelligence\\nMarch 14, 2025\\nOpenAI and Google call for US government action to secure AI lead\\n\\nArtificial Intelligence\\nMarch 14, 2025\\nCBRE: Leveraging Artificial Intelligence for business growth\\n\\nAGI\\nMarch 14, 2025\\nManus AI agent: breakthrough in China’s agentic AI\\n\\nApplications\\nMarch 13, 2025\\nServiceNow deploys AI agents to boost enterprise workflows',\n",
       "  'score': 0.8014549},\n",
       " {'title': 'Artificial Intelligence News - ScienceDaily',\n",
       "  'url': 'https://www.sciencedaily.com/news/computers_math/artificial_intelligence/',\n",
       "  'content': \"Tuesday, November 12, 2024\\n\\nGiving Robots Superhuman Vision Using Radio Signals\\n\\nMonday, November 11, 2024\\n\\nAI Can Detect Serious Neurologic Changes in Babies in the NICU Using Video Data Alone\\nRobot That Watched Surgery Videos Performs With Skill of Human Doctor, Researchers Report\\n\\nThursday, November 7, 2024\\n\\nRobot Learns How to Clean a Washbasin\\n\\nWednesday, November 6, 2024\\n\\nAI-Driven Mobile Robots Team Up to Tackle Chemical Synthesis\\n\\nThursday, October 31, 2024 [...] Using Robots in Nursing Homes Linked to Higher Employee Retention, Better Patient Care\\n\\nMonday, January 6, 2025\\n\\nAI Slashes Cost and Time for Chip Design, but That Is Not All\\n\\nThursday, January 2, 2025\\n\\nArtificial Intelligence: Algorithms Improve Medical Image Analysis\\n\\nFriday, December 27, 2024\\n\\nCrossing the Uncanny Valley: Breakthrough in Technology for Lifelike Facial Expressions in Androids\\n\\nThursday, December 26, 2024\\n\\nWind Sensing by Biomimetic Flexible Flapping Wing With Strain Sensors [...] Thursday, December 19, 2024\\n\\nMachine Psychology: A Bridge to General AI?\\nLaser-Based Artificial Neuron Mimics Nerve Cell Functions at Lightning Speed\\n\\nWednesday, December 18, 2024\\n\\nSwarms of 'ant-Like' Robots Lift Heavy Objects and Hurl Themselves Over Obstacles\\n\\nTuesday, December 17, 2024\\n\\nDeveloping Artificial Intelligence Tools for Health Care\\nTiny Robots, Big Impact: Revolutionizing Infertility Treatment With Magnetic Microrobots\\n\\nMonday, December 16, 2024\",\n",
       "  'score': 0.7493996},\n",
       " {'title': 'AI News & Artificial Intelligence | TechCrunch',\n",
       "  'url': 'https://techcrunch.com/category/artificial-intelligence/',\n",
       "  'content': 'Maxwell Zeff\\n\\n4 days ago\\n\\n\\n\\nMedia & Entertainment\\nYouTube rolls out a free AI music-making tool for creators\\n\\nSarah Perez\\n\\n4 days ago\\n\\n\\n\\nAI\\nAmazon CEO Andy Jassy urges companies to invest heavily in AI\\n\\nRebecca Szkutak\\n\\n4 days ago\\n\\n\\n\\nClimate\\nGoogle thinks AI can untangle the electrical grid’s bureaucracy\\n\\nTim De Chant\\n\\n4 days ago\\n\\n\\n\\nAI\\nIncident.io raises $62M at a $400M valuation to help IT teams move fast when things break\\n\\nIngrid Lunden\\n\\n4 days ago [...] AI\\nThe rise of AI ‘reasoning’ models is making benchmarking more expensive\\n\\nKyle Wiggers\\n\\n4 days ago\\n\\n\\n\\nFintech\\nAI insurtech Ominimo bags its first investment at a $220M valuation\\n\\nIngrid Lunden\\n\\n4 days ago\\n\\n\\n\\nAI\\nElon Musk’s AI company, xAI, launches an API for Grok 3\\n\\nKyle Wiggers\\n\\n4 days ago\\n\\n\\n\\nAI\\nGoogle to embrace Anthropic’s standard for connecting AI models to data\\n\\nKyle Wiggers\\n\\n5 days ago\\n\\n\\n\\nAI\\nOpenAI countersues Elon Musk, calls for enjoinment from ‘further unlawful and unfair action’ [...] AI\\nAI models still struggle to debug software, Microsoft study shows\\n\\nKyle Wiggers\\n\\n4 days ago\\n\\n\\n\\nAI\\nThe US Secretary of Education referred to AI as ‘A1,’ like the steak sauce\\n\\nAmanda Silberling\\n\\n4 days ago\\n\\n\\n\\nApps\\nCanva is getting AI image generation, interactive coding, spreadsheets, and more\\n\\nIvan Mehta\\n\\n4 days ago\\n\\n\\n\\nAI\\nLiveKit’s tools power real-time communications, including OpenAI’s Voice Mode\\n\\nKyle Wiggers\\n\\n4 days ago\\n\\n\\n\\nAI\\nOpenAI updates ChatGPT to reference your past chats',\n",
       "  'score': 0.69968605},\n",
       " {'title': 'AI Weekly — AI News & Leading Newsletter on Artificial Intelligence ...',\n",
       "  'url': 'https://aiweekly.co/',\n",
       "  'content': 'AI Weekly — AI News & Leading Newsletter on Artificial Intelligence & Deep Learning Latest Issue Archives Sponsor AI Weekly Search Search Search Toggle Menu Subscribe to a weekly collection of AI News and resources on Artificial Intelligence and Machine Learning. Issue #424: AI ‘godfather’ predicts another revolution in the tech in next five years February 6th 2025 In the News AI ‘godfather’ predicts another revolution in the tech in next five years Meta’s Yann LeCun says current systems too limited to create domestic robots and fully automated cars theguardian.com Sponsor carrd.co In The News Which countries have banned DeepSeek and why? zdnet.com Applied use cases Google drops pledge not to use AI for weapons, surveillance Tech giant says in updated ethics policy that it will use AI in line with ‘international law and human rights’. forbes.com Swedish commission delivers roadmap to drive artificial intelligence reforms Sweden is poised to regain its status as the frontier Nordic nation for next-generation technology development, following the government’s endorsement of a strategic roadmap and a €1.5bn increase in spending on artificial intelligence (AI). weforum.org AI Governance: The CEO’s Ethical Imperative In 2025 As artificial intelligence reshapes industries, it is critical for businesses to view AI governance not merely as a regulatory obligation but as an ethical imperative.',\n",
       "  'score': 0.6369636}]"
      ]
     },
     "execution_count": 8,
     "metadata": {},
     "output_type": "execute_result"
    }
   ],
   "source": [
    "tavily.invoke(\"Provide me the recent AI News\")"
   ]
  },
  {
   "cell_type": "code",
   "execution_count": 9,
   "metadata": {},
   "outputs": [],
   "source": [
    "tools = [arxiv, wiki, tavily]"
   ]
  },
  {
   "cell_type": "markdown",
   "metadata": {},
   "source": [
    "#### Use Groq as it is free upto certain token limit. "
   ]
  },
  {
   "cell_type": "code",
   "execution_count": 10,
   "metadata": {},
   "outputs": [],
   "source": [
    "from langchain_groq import ChatGroq\n",
    "\n",
    "llm = ChatGroq(model=\"qwen-qwq-32b\")"
   ]
  },
  {
   "cell_type": "code",
   "execution_count": 11,
   "metadata": {},
   "outputs": [
    {
     "data": {
      "text/plain": [
       "AIMessage(content='\\n<think>\\nOkay, I need to explain what AI is. Let me start by recalling what I know. AI stands for Artificial Intelligence. But how do I define it properly? Maybe start with a simple definition first. It\\'s the simulation of human intelligence in machines. But wait, that\\'s pretty broad. I should break it down into key components.\\n\\nSo, AI involves tasks that typically require human intelligence, like learning, problem-solving, perception, and decision-making. But I should mention that it\\'s done by machines. Maybe mention different types of AI, like narrow or general. Oh, right, there\\'s the distinction between narrow (or weak) AI, which is designed for specific tasks, and general (or strong) AI, which can handle any intellectual task a human can. Though general AI isn\\'t really here yet, right?\\n\\nExamples of narrow AI would be things like Siri, Alexa, recommendation systems on Netflix or Amazon. They do specific tasks really well but aren\\'t sentient. Then there\\'s machine learning, which is a subset of AI, where systems learn from data without being explicitly programmed. Deep learning is another subset, using neural networks to model data.\\n\\nI should also touch on applications. Like in healthcare for diagnostics, finance for fraud detection, autonomous vehicles, etc. Maybe mention some challenges: ethical issues, job displacement, bias in algorithms. But keep it concise.\\n\\nWait, the user might not know the difference between AI, machine learning, and deep learning. Maybe clarify those terms briefly. Also, maybe mention that AI systems can improve over time with more data. Oh, and the history? Maybe not necessary unless the user asks, but since the question is \"what is AI,\" maybe a quick mention of its origins in the 1950s?\\n\\nHmm, structure-wise, start with a definition, then break down components, types, applications, and challenges. Avoid jargon where possible, but still be accurate. Let me check if I missed anything important. The Turing Test is a concept related to AI, but maybe that\\'s more of a subtopic. Also, the difference between symbolic AI (rule-based) and connectionist (neural networks) approaches? Maybe too detailed for a general explanation.\\n\\nOkay, putting it all together in a coherent way. Start with the basic definition, then explain the key aspects, types, applications, and current state. Mention that it\\'s a broad field with various approaches and technologies. Highlight the difference between narrow and general AI. Make sure to clarify that AI isn\\'t a single technology but a field encompassing many techniques. Also, note that AI can be both software and hardware, like robotics. Alright, I think that covers the main points without getting too technical.\\n</think>\\n\\n**Artificial Intelligence (AI)** is a branch of computer science focused on creating systems that can perform tasks requiring human-like intelligence. These tasks include learning, problem-solving, perception, decision-making, and language understanding. AI systems aim to mimic cognitive functions such as reasoning, planning, and adaptation, often through algorithms and data analysis.\\n\\n### Key Components of AI:\\n1. **Machine Learning (ML):** A subset of AI where systems learn patterns from data to make predictions or decisions without explicit programming. Examples include spam filters and recommendation systems.\\n2. **Deep Learning (DL):** A specialized form of ML using neural networks inspired by the human brain. It powers advancements in image and speech recognition (e.g., facial recognition, voice assistants).\\n3. **Natural Language Processing (NLP):** Enables machines to understand and generate human language (e.g., chatbots, translators).\\n\\n### Types of AI:\\n- **Narrow (Weak) AI:** Designed for specific tasks. Examples include virtual assistants (Siri, Alexa), self-driving cars, and fraud detection systems. This is the most common type today.\\n- **General (Strong) AI:** Hypothetical systems capable of performing *any* intellectual task a human can, including creativity and abstract thinking. This remains theoretical and unachieved.\\n\\n### Applications:\\n- **Healthcare:** Diagnosing diseases, drug discovery, and personalized treatment plans.\\n- **Finance:** Fraud detection, algorithmic trading, and credit scoring.\\n- **Transportation:** Autonomous vehicles and traffic management systems.\\n- **Entertainment:** Personalized content recommendations (Netflix, Spotify).\\n- **Manufacturing:** Robotics and predictive maintenance.\\n\\n### Challenges and Considerations:\\n- **Ethical Concerns:** Bias in algorithms (e.g., facial recognition disparities), privacy issues, and autonomous weapons.\\n- **Job Impact:** Automation may displace certain roles but also create new opportunities.\\n- **Technical Limits:** Current systems lack true consciousness or common sense, relying heavily on the quality and quantity of training data.\\n\\n### History & Evolution:\\n- Originated in the 1950s with early research on logic-based systems. Modern advancements stem from improvements in computing power, big data, and breakthroughs in neural networks.\\n\\nIn summary, AI is a rapidly evolving field that combines software, mathematics, and engineering to build systems that emulate human intelligence, driving innovations across industries while posing important societal questions.', additional_kwargs={}, response_metadata={'token_usage': {'completion_tokens': 1034, 'prompt_tokens': 13, 'total_tokens': 1047, 'completion_time': 2.595542068, 'prompt_time': 0.003145258, 'queue_time': 0.458915091, 'total_time': 2.598687326}, 'model_name': 'qwen-qwq-32b', 'system_fingerprint': 'fp_a91d9c2cfb', 'finish_reason': 'stop', 'logprobs': None}, id='run-93c925b5-29df-45ea-837d-c7bc2f7321b1-0', usage_metadata={'input_tokens': 13, 'output_tokens': 1034, 'total_tokens': 1047})"
      ]
     },
     "execution_count": 11,
     "metadata": {},
     "output_type": "execute_result"
    }
   ],
   "source": [
    "llm.invoke(\"what is AI\")"
   ]
  },
  {
   "cell_type": "code",
   "execution_count": 12,
   "metadata": {},
   "outputs": [],
   "source": [
    "llm_with_tools = llm.bind_tools(tools=tools)"
   ]
  },
  {
   "cell_type": "code",
   "execution_count": 13,
   "metadata": {},
   "outputs": [
    {
     "data": {
      "text/plain": [
       "AIMessage(content='', additional_kwargs={'tool_calls': [{'id': 'call_7ym5', 'function': {'arguments': '{\"query\": \"recent news on AI\"}', 'name': 'tavily_search_results_json'}, 'type': 'function'}]}, response_metadata={'token_usage': {'completion_tokens': 166, 'prompt_tokens': 356, 'total_tokens': 522, 'completion_time': 0.420450016, 'prompt_time': 0.088402552, 'queue_time': 0.144419661, 'total_time': 0.508852568}, 'model_name': 'qwen-qwq-32b', 'system_fingerprint': 'fp_07cd5d759a', 'finish_reason': 'tool_calls', 'logprobs': None}, id='run-da7d752e-aeed-418d-b1ff-a97df537ba87-0', tool_calls=[{'name': 'tavily_search_results_json', 'args': {'query': 'recent news on AI'}, 'id': 'call_7ym5', 'type': 'tool_call'}], usage_metadata={'input_tokens': 356, 'output_tokens': 166, 'total_tokens': 522})"
      ]
     },
     "execution_count": 13,
     "metadata": {},
     "output_type": "execute_result"
    }
   ],
   "source": [
    "llm_with_tools.invoke(\"What is the recent news on AI?\")"
   ]
  },
  {
   "cell_type": "code",
   "execution_count": 14,
   "metadata": {},
   "outputs": [
    {
     "data": {
      "text/plain": [
       "AIMessage(content='', additional_kwargs={'tool_calls': [{'id': 'call_5ez2', 'function': {'arguments': '{\"query\": \"Quantum Computing\"}', 'name': 'arxiv'}, 'type': 'function'}]}, response_metadata={'token_usage': {'completion_tokens': 167, 'prompt_tokens': 357, 'total_tokens': 524, 'completion_time': 0.42501036, 'prompt_time': 0.060627954, 'queue_time': 2.1076340719999997, 'total_time': 0.485638314}, 'model_name': 'qwen-qwq-32b', 'system_fingerprint': 'fp_07cd5d759a', 'finish_reason': 'tool_calls', 'logprobs': None}, id='run-1baa64c9-276c-499f-91bb-a01d74216f59-0', tool_calls=[{'name': 'arxiv', 'args': {'query': 'Quantum Computing'}, 'id': 'call_5ez2', 'type': 'tool_call'}], usage_metadata={'input_tokens': 357, 'output_tokens': 167, 'total_tokens': 524})"
      ]
     },
     "execution_count": 14,
     "metadata": {},
     "output_type": "execute_result"
    }
   ],
   "source": [
    "llm_with_tools.invoke(\"What is the latest research on Quantum Computing?\")"
   ]
  },
  {
   "cell_type": "markdown",
   "metadata": {},
   "source": [
    "## Workflow using Langgraph"
   ]
  },
  {
   "cell_type": "code",
   "execution_count": 15,
   "metadata": {},
   "outputs": [],
   "source": [
    "from typing_extensions import TypedDict\n",
    "from langchain_core.messages import AnyMessage\n",
    "from typing import Annotated\n",
    "from langgraph.graph.message import add_messages"
   ]
  },
  {
   "cell_type": "code",
   "execution_count": 17,
   "metadata": {},
   "outputs": [],
   "source": [
    "class State(TypedDict) :\n",
    "    messages: Annotated[list[AnyMessage], add_messages]\n",
    "    #Append messages from either human or agents \n"
   ]
  },
  {
   "cell_type": "code",
   "execution_count": 20,
   "metadata": {},
   "outputs": [],
   "source": [
    "# Now adding LangGraph Nodes\n",
    "from IPython.display import Image,display\n",
    "from langgraph.graph import StateGraph, START, END\n",
    "from langgraph.prebuilt import ToolNode\n",
    "from langgraph.prebuilt import tools_condition\n"
   ]
  },
  {
   "cell_type": "markdown",
   "metadata": {},
   "source": [
    "##### A Simple Workflow "
   ]
  },
  {
   "cell_type": "code",
   "execution_count": 31,
   "metadata": {},
   "outputs": [
    {
     "data": {
      "image/png": "[encoded data removed]",
      "text/plain": [
       "<IPython.core.display.Image object>"
      ]
     },
     "metadata": {},
     "output_type": "display_data"
    }
   ],
   "source": [
    "#Define a function which returns dictionary of messages from llm_with_tools\n",
    "\n",
    "def tool_calling_llm(state:State):\n",
    "    return {\"messages\" : [llm_with_tools.invoke(state[\"messages\"])]}  \n",
    "\n",
    "# Build graph\n",
    "builder = StateGraph(State)\n",
    "builder.add_node(\"tool_calling_llm\", tool_calling_llm)\n",
    "builder.add_node(\"tools\", ToolNode(tools))\n",
    "\n",
    "## Edges\n",
    "\n",
    "builder.add_edge(START, \"tool_calling_llm\")\n",
    "builder.add_conditional_edges(\"tool_calling_llm\",\n",
    "                              tools_condition)\n",
    "builder.add_edge(\"tools\", END)\n",
    "\n",
    "#compile and display the graph\n",
    "graph = builder.compile()\n",
    "display(Image(graph.get_graph().draw_mermaid_png()))"
   ]
  },
  {
   "cell_type": "code",
   "execution_count": 27,
   "metadata": {},
   "outputs": [
    {
     "name": "stdout",
     "output_type": "stream",
     "text": [
      "================================\u001b[1m Human Message \u001b[0m=================================\n",
      "\n",
      "What is finance planning?\n",
      "==================================\u001b[1m Ai Message \u001b[0m==================================\n",
      "Tool Calls:\n",
      "  wikipedia (call_wzc7)\n",
      " Call ID: call_wzc7\n",
      "  Args:\n",
      "    query: Financial planning\n",
      "=================================\u001b[1m Tool Message \u001b[0m=================================\n",
      "Name: wikipedia\n",
      "\n",
      "Page: Financial plan\n",
      "Summary: In general usage, a financial plan is a comprehensive evaluation of an individual's current pay and future financial state by using current known variables to predict future income, asset values and withdrawal plans.  This often includes a budget which organizes an individual's finances and sometimes includes a series of steps or specific goals for spending and saving in the future. This plan allocates future income to various types of expenses, such as rent or util\n"
     ]
    }
   ],
   "source": [
    "messages = graph.invoke({\"messages\":\"What is finance planning?\"})\n",
    "for m in messages['messages']:\n",
    "    m.pretty_print()"
   ]
  },
  {
   "cell_type": "markdown",
   "metadata": {},
   "source": [
    "#### A ReAct Workflow. All you need to do is add an edge from Tools to Tool Calling LLM"
   ]
  },
  {
   "cell_type": "code",
   "execution_count": 32,
   "metadata": {},
   "outputs": [
    {
     "data": {
      "image/png": "[encoded data removed]",
      "text/plain": [
       "<IPython.core.display.Image object>"
      ]
     },
     "metadata": {},
     "output_type": "display_data"
    }
   ],
   "source": [
    "#Define a function which returns dictionary of messages from llm_with_tools\n",
    "\n",
    "def tool_calling_llm(state:State):\n",
    "    return {\"messages\" : [llm_with_tools.invoke(state[\"messages\"])]}  \n",
    "\n",
    "# Build graph\n",
    "builder = StateGraph(State)\n",
    "builder.add_node(\"tool_calling_llm\", tool_calling_llm)\n",
    "builder.add_node(\"tools\", ToolNode(tools))\n",
    "\n",
    "## Edges\n",
    "\n",
    "builder.add_edge(START, \"tool_calling_llm\")\n",
    "builder.add_conditional_edges(\"tool_calling_llm\",\n",
    "                              tools_condition)\n",
    "builder.add_edge(\"tools\", \"tool_calling_llm\")\n",
    "#builder.add_edge(\"tools\", END)\n",
    "\n",
    "#compile and display the graph\n",
    "graph = builder.compile()\n",
    "display(Image(graph.get_graph().draw_mermaid_png()))"
   ]
  },
  {
   "cell_type": "markdown",
   "metadata": {},
   "source": [
    "### Here it just uses one tool and goes to End as it doesn't need any other tool"
   ]
  },
  {
   "cell_type": "code",
   "execution_count": 33,
   "metadata": {},
   "outputs": [
    {
     "name": "stdout",
     "output_type": "stream",
     "text": [
      "================================\u001b[1m Human Message \u001b[0m=================================\n",
      "\n",
      "What is the latest finance news?\n",
      "==================================\u001b[1m Ai Message \u001b[0m==================================\n",
      "Tool Calls:\n",
      "  tavily_search_results_json (call_kb9z)\n",
      " Call ID: call_kb9z\n",
      "  Args:\n",
      "    query: latest finance news\n",
      "=================================\u001b[1m Tool Message \u001b[0m=================================\n",
      "Name: tavily_search_results_json\n",
      "\n",
      "[{\"title\": \"Finance News: Wall Street, financial markets, stocks, securities and ...\", \"url\": \"https://finance.yahoo.com/news/\", \"content\": \"### A jump in delinquencies in a corner of the mortgage market suggests first-time homebuyers may be struggling\\nBusiness Insider • yesterday\\n\\n### Consumers might finally be accepting higher-for-longer mortgage rates\\nYahoo Finance • yesterday\\n\\n### Mortgage and refinance rates today, February 7, 2025: Rate stability could make it a good time to buy\\nYahoo Personal Finance • yesterday\\nView More\\nPersonal Finance [...] Finance News: Wall Street, financial markets, stocks, securities and more from Yahoo Finance\\n\\nNews\\n\\nToday's news\\nUS\\nPolitics\\nWorld\\n\\nTech\\n\\nReviews and deals\\nAudio\\nComputing\\nGaming\\nHealth\\nHome\\nPhones\\nScience\\nTVs\\nClimate change\\nHealth\\nScience\\n\\nOriginals\\n\\n\\nThe 360\\n\\nNewsletters\\n\\n\\n\\n\\nLife\\n\\n\\nHealth\\n\\nCOVID-19\\nFall allergies\\nHealth news\\nMental health\\nRelax\\nSexual health\\nStudies\\nThe Unwind\\n\\nParenting\\n\\n\\nFamily health\\n\\nSo mini ways\\n\\nStyle and beauty\\n\\n\\nIt Figures\\n\\nUnapologetically\\nHoroscopes\\n\\nShopping [...] ### DeepSeek, DeepSeek, DeepSeek: CEOs keep getting asked about the Chinese AI startup on earnings calls\\nBusiness Insider • yesterday\\nMETA-USD\\n\\n\\n\\n### Universal Logistics Holdings forecasts lower 2025 earnings\\nFreightWaves • yesterday\\nULH\\n\\n\\n\\n### Wall Street hopes the worst is behind McDonald's ahead of its Q4 earnings report\\nYahoo Finance • yesterday\\nMCD\\n\\n\\n\\n### Watch These Cloudflare Price Levels as Stock Surges After Better-Than-Expected Earnings\\nInvestopedia • yesterday\\nNET\", \"score\": 0.6445166}, {\"title\": \"Yahoo Finance - Stock Market Live, Quotes, Business & Finance News\", \"url\": \"https://finance.yahoo.com/\", \"content\": \"### Merz’s Conservatives Heading for Reverse in German Regional Vote\\nBloomberg • 2 hours ago\\n\\n\\n### In address to congress, Argentine President Milei promises IMF deal and lauds economic wins\\nAssociated Press Finance • 4 hours ago\\n\\n\\n### India's Adani Group revives US investment plans, FT reports\\nReuters • 5 hours ago\\nADANIPOWER.NS -3.68%\\n\\n\\n### Milei to Seek Congress Support for IMF Deal ‘in Coming Days’\\nBloomberg • 6 hours ago\\n\\n\\n### Carriers prioritizing West Coast\\nFreightWaves • 7 hours ago [...] Breaking News • yesterday The Fed's preferred inflation gauge matched expectations, likely keeping the bank on track to hold rates next month.\\nNews • 2 days ago Tesla stock is down 30% this year. Here's why its gains from Trump's win didn't last.\\nNews • 2 days ago Surging market, steady saving yields new crop of 401(k) millionaires\\nNews • 2 days ago Even Trump gets confused by his own trade war. Here's a breakdown of his tariff threats and their deadlines. [...] ### The Chinese EV maker threatening Ford and GM\\nThe Wall Street Journal • yesterday\\nXIACY -0.03%AAPL +1.91%\\n\\n\\n### Car insurance rates are climbing. Here are 11 ways to save.\\nYahoo Personal Finance • 8 days ago\\n\\n\\n### Report: SoftBank in talks to borrow $16 billion to fund AI\\nReuters • 16 hours ago\\nSFTBY -1.88%\\n\\n\\nView More\\nLatest\\n\\n\\n### US Jobs Report to Offer Clues on Hiring Momentum\\nBloomberg • 24 minutes ago\", \"score\": 0.6396691}, {\"title\": \"Latest Finance News | Today's Top Headlines - Reuters\", \"url\": \"https://www.reuters.com/business/finance/\", \"content\": \"failed\", \"score\": 0.52962893}]\n",
      "==================================\u001b[1m Ai Message \u001b[0m==================================\n",
      "\n",
      "Here’s a summary of the latest finance news based on the search results:\n",
      "\n",
      "1. **Mortgage Market Struggles**: A rise in mortgage delinquencies suggests first-time homebuyers may be facing financial strain, while some analysts note stable mortgage rates could make now a viable time to purchase.  \n",
      "\n",
      "2. **Corporate Earnings Highlights**:  \n",
      "   - **DeepSeek**, a Chinese AI startup, is drawing frequent questions from investors during CEO earnings calls.  \n",
      "   - **Universal Logistics Holdings** lowered its 2025 earnings forecasts.  \n",
      "   - **McDonald’s** is optimism ahead of its Q4 earnings report.  \n",
      "   - **Cloudflare** saw stock surges after better-than-expected earnings.  \n",
      "\n",
      "3. **Global Economy Updates**:  \n",
      "   - Argentina’s President Milei pledged an IMF deal and highlighted economic reforms.  \n",
      "   - India’s **Adani Group** is reviving U.S. investment plans amid ongoing scrutiny.  \n",
      "   - The U.S. Fed’s inflation data matched expectations, suggesting rates may stay steady in the near term.  \n",
      "\n",
      "4. **Other Notables**:  \n",
      "   - **SoftBank** is reportedly exploring a $16B loan to fund AI investments.  \n",
      "   - Tesla’s stock has dropped 30% in 2025, despite earlier optimism around Trump’s policies.  \n",
      "\n",
      "For more details, check the linked sources like [Yahoo Finance](https://finance.yahoo.com/news/).\n"
     ]
    }
   ],
   "source": [
    "messages = graph.invoke({\"messages\":\"What is the latest finance news?\"})\n",
    "for m in messages['messages']:\n",
    "    m.pretty_print()"
   ]
  },
  {
   "cell_type": "markdown",
   "metadata": {},
   "source": [
    "### Lets Make it a bit more complicated. \n",
    "#### Lets ask it to search latest news and for the first one get the research paper and give out a one paragraph summary"
   ]
  },
  {
   "cell_type": "code",
   "execution_count": 34,
   "metadata": {},
   "outputs": [
    {
     "name": "stdout",
     "output_type": "stream",
     "text": [
      "================================\u001b[1m Human Message \u001b[0m=================================\n",
      "\n",
      "What is the Most used AI model in Finance? Give me a one para brief summary of the research paper on using the latest AI on Finance\n",
      "==================================\u001b[1m Ai Message \u001b[0m==================================\n",
      "Tool Calls:\n",
      "  tavily_search_results_json (call_qn5h)\n",
      " Call ID: call_qn5h\n",
      "  Args:\n",
      "    query: most used AI model in finance\n",
      "  arxiv (call_bjvv)\n",
      " Call ID: call_bjvv\n",
      "  Args:\n",
      "    query: application of latest AI models in finance\n",
      "=================================\u001b[1m Tool Message \u001b[0m=================================\n",
      "Name: tavily_search_results_json\n",
      "\n",
      "[{\"title\": \"Top AI Tools for a Finance Professional\", \"url\": \"https://corporatefinanceinstitute.com/resources/career/ai-tools-for-a-finance-professional/\", \"content\": \"10 AI Tools for a Finance Professional\\n\\nThere are countless AI tools for finance that finance professionals everywhere are now incorporating into their daily work processes. 10 AI tools for finance are outlined below.\\n\\n1. ChatGPT\\n\\nLaunched only in November of 2022, ChatGPT is arguably the most successful and well-known AI for finance used today. ChatGPT is an open AI tool that uses natural language processing to create human-like, conversational text. [...] Stampli Price:\\n\\nStampli doesn’t provide pricing on its website, but you can request a quote.\\n\\n5. Vena Insights\\n\\nAnother form of AI for finance is Vena Insights. Vena Insights helps finance teams use data to make informed decisions when it comes to budgeting, forecasting, workforce planning, incentive compensation management, tax provisioning, and more. Key features of Vena Insights include easy-to-use dashboards, predictive analytics and anomaly detection, and data analysis expressions. [...] Such a reduction in workflow time was because the Trullion AI for finance collected and organized financial data in a way that helped the company create and sustain a competitive edge, centralize workflow and communication, and optimize internal processes.\\n\\nTrullion Price:\\n\\nAccording to Capterra.com, the starting price at Trullion is $3,000.00/year.\\n\\n9. Nanonets Flow\", \"score\": 0.8506799}, {\"title\": \"Top 25+ Generative AI Finance Use Cases & Case Studies ['25]\", \"url\": \"https://research.aimultiple.com/generative-ai-finance/\", \"content\": \"Generative AI models, like Generative Adversarial Networks (GANs) or Variational Autoencoders (VAEs), can model complex financial relationships and generate synthetic data that mimics real market conditions. This synthetic data can be used to test and optimize trading algorithms, reducing the reliance on historical data alone.\\n22-Scenario analysis [...] Strategy & vision: Define a clear, long-term strategy for integrating generative AI that aligns with the company’s overall business objectives.\\nDomains & use cases: Focus on high-impact areas within finance, such as forecasting or customer interaction, where generative AI can provide the most value.\\nDeployment model: Choose the right AI deployment model (cloud, on-premise, or hybrid) based on security, scalability, and data privacy needs. [...] Since customer information is proprietary data for finance teams, it introduces some problems in terms of its use and regulation. Generative AI can be employed by financial institutions to produce synthetic data that adheres to privacy regulations such as GDPR and CCPA. By learning patterns and relationships from real financial data, generative AI models are able to create synthetic datasets that closely resemble the original data while preserving data privacy.\", \"score\": 0.79119295}, {\"title\": \"AI in Finance: How Generative AI and Large Language Models Can ...\", \"url\": \"https://www.snowflake.com/trending/ai-finance/\", \"content\": \"Types of AI in Finance\\n\\nAI is a broad category with multiple branches, each with its own unique functionalities and applications. Here are four types of artificial intelligence commonly used for finance applications.\\n\\nNatural Language Processing (NLP) [...] Let’s look at seven use cases that highlight how AI-enabled technologies are enabling financial companies to thrive in an increasingly competitive industry.\\n\\nRegulatory compliance\\n\\nOne of AI’s most useful features is its ability to quickly and efficiently sift through massive quantities of data. Using AI systems, financial institutions can proactively identify potential compliance violations, including fraud and data security breaches.\\n\\nRisk assessment\", \"score\": 0.7892503}, {\"title\": \"Top 10 Applications of AI in Financial Modeling & Forecasting\", \"url\": \"https://nextgeninvent.com/blogs/applications-of-ai-in-financial-modeling/\", \"content\": \"By providing actionable insights and facilitating compliance with evolving regulations, artificial intelligence in financial modeling and forecasting helps financial organizations navigate complex risk landscapes. Resilience and financial stability are enhanced as a result.\\n\\n7. Predictive Analytics [...] Difficulty Spotting Trends? Let Our AI Development Services Uncover Key Patterns and Improve Decision-Making\\n\\n\\n\\nApplications of AI in Financial Modeling\\n\\nTo forecast financial results, identify trends, and support data-driven decision-making, AI in financial modeling and forecasting combines a variety of data sources and computational techniques.\\n\\n1. Churn Prediction [...] Since AI can anticipate a wide range of financial metrics and economic indicators with great accuracy, its predictive capabilities are essential to financial modeling tools. With techniques like time series forecasting and regression analysis, artificial intelligence can generate accurate forecasts. For example, using historical financial data, time series models can forecast future cash flow, expenses, and income.\", \"score\": 0.7811474}, {\"title\": \"10 Popular AI Models and Their Financial Strengths\", \"url\": \"https://www.moneytalksnews.com/slideshows/popular-ai-models-and-their-financial-strengths/\", \"content\": \"1. ChatGPT: Personalized financial education · 2. Microsoft Copilot: Excel-powered financial analysis · 3. Claude: Ethical financial guidance · 4.\", \"score\": 0.71995544}]\n",
      "=================================\u001b[1m Tool Message \u001b[0m=================================\n",
      "Name: arxiv\n",
      "\n",
      "Published: 2021-07-20\n",
      "Title: AI in Finance: Challenges, Techniques and Opportunities\n",
      "Authors: Longbing Cao\n",
      "Summary: AI in finance broadly refers to the applications of AI techniques in\n",
      "financial businesses. This area has been lasting for decades with both classic\n",
      "and modern AI techniques applied to increasingly broader areas of finance,\n",
      "economy and society. In contrast to either discussing the problems, aspects and\n",
      "opportunities of finance that have benefited from specific AI techniques and in\n",
      "p\n",
      "==================================\u001b[1m Ai Message \u001b[0m==================================\n",
      "\n",
      "The most widely used AI models in finance today include **large language models (LLMs) like OpenAI’s GPT (ChatGPT) and Microsoft’s Copilot**, as well as **generative AI models such as GANs (Generative Adversarial Networks) and VAEs (Variational Autoencoders)**. These models are leveraged for tasks like automating financial reporting, generating insights from unstructured data (e.g., news, earnings calls), detecting fraud, and creating synthetic data for compliance and risk assessment.  \n",
      "\n",
      "Recent research highlights the use of **LLMs** for natural language processing in customer service and regulatory analysis, while **GANs** are employed to generate realistic synthetic financial datasets for training models without privacy risks. A notable study emphasizes that modern AI in finance addresses challenges like data privacy (via synthetic data) and real-time decision-making, with applications in portfolio optimization, fraud detection, and regulatory compliance. For instance, LLMs like ChatGPT aid in automating financial advice, while GANs help simulate market scenarios to mitigate risks. These advancements are driven by the need for faster, data-driven insights in dynamic financial markets.  \n",
      "\n",
      "*(Sources: Tavaly search results on AI tools in finance, Arxiv paper on generative AI's role in synthetic data and compliance.)*\n"
     ]
    }
   ],
   "source": [
    "messages = graph.invoke({\"messages\":\"What is the Most used AI model in Finance? Give me a one para brief summary of the research paper on using the latest AI on Finance\"})\n",
    "for m in messages['messages']:\n",
    "    m.pretty_print()"
   ]
  },
  {
   "cell_type": "code",
   "execution_count": null,
   "metadata": {},
   "outputs": [],
   "source": []
  }
 ],
 "metadata": {
  "kernelspec": {
   "display_name": "Python 3",
   "language": "python",
   "name": "python3"
  },
  "language_info": {
   "codemirror_mode": {
    "name": "ipython",
    "version": 3
   },
   "file_extension": ".py",
   "mimetype": "text/x-python",
   "name": "python",
   "nbconvert_exporter": "python",
   "pygments_lexer": "ipython3",
   "version": "3.10.0"
  }
 },
 "nbformat": 4,
 "nbformat_minor": 2
}
