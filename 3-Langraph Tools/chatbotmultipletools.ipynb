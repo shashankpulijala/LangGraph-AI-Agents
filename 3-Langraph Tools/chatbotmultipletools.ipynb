{
 "cells": [
  {
   "cell_type": "code",
   "execution_count": 1,
   "metadata": {},
   "outputs": [],
   "source": [
    "from langchain_community.tools import ArxivQueryRun, WikipediaQueryRun\n",
    "from langchain_community.utilities import WikipediaAPIWrapper, ArxivAPIWrapper"
   ]
  },
  {
   "cell_type": "code",
   "execution_count": 2,
   "metadata": {},
   "outputs": [
    {
     "name": "stdout",
     "output_type": "stream",
     "text": [
      "arxiv\n"
     ]
    }
   ],
   "source": [
    "api_wrapper_arxiv = ArxivAPIWrapper(top_k_results=2, doc_content_chars_max= 500,)\n",
    "arxiv = ArxivQueryRun(api_wrapper=api_wrapper_arxiv, description=\"Query Arxiv Papers\")\n",
    "print(arxiv.name)"
   ]
  },
  {
   "cell_type": "code",
   "execution_count": 3,
   "metadata": {},
   "outputs": [
    {
     "name": "stdout",
     "output_type": "stream",
     "text": [
      "wikipedia\n"
     ]
    }
   ],
   "source": [
    "api_wrapper_wiki = WikipediaAPIWrapper(top_k_results=2, doc_content_chars_max= 500,)\n",
    "wiki = WikipediaQueryRun(api_wrapper=api_wrapper_wiki)\n",
    "print(wiki.name)"
   ]
  },
  {
   "cell_type": "code",
   "execution_count": 4,
   "metadata": {},
   "outputs": [
    {
     "data": {
      "text/plain": [
       "'Page: Attention Is All You Need\\nSummary: \"Attention Is All You Need\" is a 2017 landmark research paper in machine learning authored by eight scientists working at Google. The paper introduced a new deep learning architecture known as the transformer, based on the attention mechanism proposed in 2014 by Bahdanau et al. It is considered a foundational paper in modern artificial intelligence, and a main contributor to the AI boom, as the transformer approach has become the main architecture of a wi'"
      ]
     },
     "execution_count": 4,
     "metadata": {},
     "output_type": "execute_result"
    }
   ],
   "source": [
    "wiki.invoke(\"Attention is all you need\")"
   ]
  },
  {
   "cell_type": "code",
   "execution_count": 5,
   "metadata": {},
   "outputs": [
    {
     "data": {
      "text/plain": [
       "\"Published: 2024-07-22\\nTitle: Attention Is All You Need But You Don't Need All Of It For Inference of Large Language Models\\nAuthors: Georgy Tyukin, Gbetondji J-S Dovonon, Jean Kaddour, Pasquale Minervini\\nSummary: The inference demand for LLMs has skyrocketed in recent months, and serving\\nmodels with low latencies remains challenging due to the quadratic input length\\ncomplexity of the attention layers. In this work, we investigate the effect of\\ndropping MLP and attention layers at inference time o\""
      ]
     },
     "execution_count": 5,
     "metadata": {},
     "output_type": "execute_result"
    }
   ],
   "source": [
    "arxiv.invoke(\"Attention is all you need\")"
   ]
  },
  {
   "cell_type": "code",
   "execution_count": 6,
   "metadata": {},
   "outputs": [],
   "source": [
    "from dotenv import load_dotenv\n",
    "load_dotenv()\n",
    "import os\n",
    "os.environ[\"TAVILY_API_KEY\"] = os.getenv(\"TAVILY_API_KEY\")\n",
    "os.environ[\"GROQ_API_KEY\"] = os.getenv(\"GROQ_API_KEY\")"
   ]
  },
  {
   "cell_type": "code",
   "execution_count": 7,
   "metadata": {},
   "outputs": [],
   "source": [
    "from langchain_community.tools.tavily_search import TavilySearchResults\n",
    "tavily = TavilySearchResults()"
   ]
  },
  {
   "cell_type": "code",
   "execution_count": 8,
   "metadata": {},
   "outputs": [
    {
     "data": {
      "text/plain": [
       "[{'title': 'AI News | Latest AI News, Analysis & Events',\n",
       "  'url': 'https://www.artificialintelligence-news.com/',\n",
       "  'content': 'March 4, 2025\\nAutoscience Carl: The first AI scientist writing peer-reviewed papers\\nApplications\\nMarch 3, 2025\\nDeep Learning\\nAlibaba Qwen QwQ-32B: Scaled reinforcement learning showcase\\nArtificial Intelligence\\nMarch 6, 2025\\nDeepSeek-R1 reasoning models rival OpenAI in performance\\nArtificial Intelligence\\nJanuary 20, 2025\\nNew AI training techniques aim to overcome current challenges\\nDeep & Reinforcement Learning\\nNovember 28, 2024 [...] AI News\\nMarch 20, 2025\\nUK minister in US to pitch Britain as global AI investment hub\\n\\nTelecoms Tech News\\nMarch 20, 2025\\nOfcom plans rules to drive UK full-fibre broadband to 96% coverage\\n\\nMarketing Tech News\\nMarch 20, 2025\\nOracle continues talks with White House to run TikTok\\n\\nMarketing Tech News\\nMarch 19, 2025\\nSocial media platforms face fines and criminal prosecution in UK\\n\\nAI News\\nMarch 19, 2025\\nNVIDIA Dynamo: Scaling AI inference with open-source efficiency [...] Artificial Intelligence\\nMarch 14, 2025\\nOpenAI and Google call for US government action to secure AI lead\\n\\nArtificial Intelligence\\nMarch 14, 2025\\nCBRE: Leveraging Artificial Intelligence for business growth\\n\\nAGI\\nMarch 14, 2025\\nManus AI agent: breakthrough in China’s agentic AI\\n\\nApplications\\nMarch 13, 2025\\nServiceNow deploys AI agents to boost enterprise workflows',\n",
       "  'score': 0.8014549},\n",
       " {'title': 'Artificial Intelligence News - ScienceDaily',\n",
       "  'url': 'https://www.sciencedaily.com/news/computers_math/artificial_intelligence/',\n",
       "  'content': \"Tuesday, November 12, 2024\\n\\nGiving Robots Superhuman Vision Using Radio Signals\\n\\nMonday, November 11, 2024\\n\\nAI Can Detect Serious Neurologic Changes in Babies in the NICU Using Video Data Alone\\nRobot That Watched Surgery Videos Performs With Skill of Human Doctor, Researchers Report\\n\\nThursday, November 7, 2024\\n\\nRobot Learns How to Clean a Washbasin\\n\\nWednesday, November 6, 2024\\n\\nAI-Driven Mobile Robots Team Up to Tackle Chemical Synthesis\\n\\nThursday, October 31, 2024 [...] Using Robots in Nursing Homes Linked to Higher Employee Retention, Better Patient Care\\n\\nMonday, January 6, 2025\\n\\nAI Slashes Cost and Time for Chip Design, but That Is Not All\\n\\nThursday, January 2, 2025\\n\\nArtificial Intelligence: Algorithms Improve Medical Image Analysis\\n\\nFriday, December 27, 2024\\n\\nCrossing the Uncanny Valley: Breakthrough in Technology for Lifelike Facial Expressions in Androids\\n\\nThursday, December 26, 2024\\n\\nWind Sensing by Biomimetic Flexible Flapping Wing With Strain Sensors [...] Thursday, December 19, 2024\\n\\nMachine Psychology: A Bridge to General AI?\\nLaser-Based Artificial Neuron Mimics Nerve Cell Functions at Lightning Speed\\n\\nWednesday, December 18, 2024\\n\\nSwarms of 'ant-Like' Robots Lift Heavy Objects and Hurl Themselves Over Obstacles\\n\\nTuesday, December 17, 2024\\n\\nDeveloping Artificial Intelligence Tools for Health Care\\nTiny Robots, Big Impact: Revolutionizing Infertility Treatment With Magnetic Microrobots\\n\\nMonday, December 16, 2024\",\n",
       "  'score': 0.7493996},\n",
       " {'title': 'AI News & Artificial Intelligence | TechCrunch',\n",
       "  'url': 'https://techcrunch.com/category/artificial-intelligence/',\n",
       "  'content': 'Maxwell Zeff\\n\\n4 days ago\\n\\n\\n\\nMedia & Entertainment\\nYouTube rolls out a free AI music-making tool for creators\\n\\nSarah Perez\\n\\n4 days ago\\n\\n\\n\\nAI\\nAmazon CEO Andy Jassy urges companies to invest heavily in AI\\n\\nRebecca Szkutak\\n\\n4 days ago\\n\\n\\n\\nClimate\\nGoogle thinks AI can untangle the electrical grid’s bureaucracy\\n\\nTim De Chant\\n\\n4 days ago\\n\\n\\n\\nAI\\nIncident.io raises $62M at a $400M valuation to help IT teams move fast when things break\\n\\nIngrid Lunden\\n\\n4 days ago [...] AI\\nThe rise of AI ‘reasoning’ models is making benchmarking more expensive\\n\\nKyle Wiggers\\n\\n4 days ago\\n\\n\\n\\nFintech\\nAI insurtech Ominimo bags its first investment at a $220M valuation\\n\\nIngrid Lunden\\n\\n4 days ago\\n\\n\\n\\nAI\\nElon Musk’s AI company, xAI, launches an API for Grok 3\\n\\nKyle Wiggers\\n\\n4 days ago\\n\\n\\n\\nAI\\nGoogle to embrace Anthropic’s standard for connecting AI models to data\\n\\nKyle Wiggers\\n\\n5 days ago\\n\\n\\n\\nAI\\nOpenAI countersues Elon Musk, calls for enjoinment from ‘further unlawful and unfair action’ [...] AI\\nAI models still struggle to debug software, Microsoft study shows\\n\\nKyle Wiggers\\n\\n4 days ago\\n\\n\\n\\nAI\\nThe US Secretary of Education referred to AI as ‘A1,’ like the steak sauce\\n\\nAmanda Silberling\\n\\n4 days ago\\n\\n\\n\\nApps\\nCanva is getting AI image generation, interactive coding, spreadsheets, and more\\n\\nIvan Mehta\\n\\n4 days ago\\n\\n\\n\\nAI\\nLiveKit’s tools power real-time communications, including OpenAI’s Voice Mode\\n\\nKyle Wiggers\\n\\n4 days ago\\n\\n\\n\\nAI\\nOpenAI updates ChatGPT to reference your past chats',\n",
       "  'score': 0.69968605},\n",
       " {'title': 'AI Weekly — AI News & Leading Newsletter on Artificial Intelligence ...',\n",
       "  'url': 'https://aiweekly.co/',\n",
       "  'content': 'AI Weekly — AI News & Leading Newsletter on Artificial Intelligence & Deep Learning Latest Issue Archives Sponsor AI Weekly Search Search Search Toggle Menu Subscribe to a weekly collection of AI News and resources on Artificial Intelligence and Machine Learning. Issue #424: AI ‘godfather’ predicts another revolution in the tech in next five years February 6th 2025 In the News AI ‘godfather’ predicts another revolution in the tech in next five years Meta’s Yann LeCun says current systems too limited to create domestic robots and fully automated cars theguardian.com Sponsor carrd.co In The News Which countries have banned DeepSeek and why? zdnet.com Applied use cases Google drops pledge not to use AI for weapons, surveillance Tech giant says in updated ethics policy that it will use AI in line with ‘international law and human rights’. forbes.com Swedish commission delivers roadmap to drive artificial intelligence reforms Sweden is poised to regain its status as the frontier Nordic nation for next-generation technology development, following the government’s endorsement of a strategic roadmap and a €1.5bn increase in spending on artificial intelligence (AI). weforum.org AI Governance: The CEO’s Ethical Imperative In 2025 As artificial intelligence reshapes industries, it is critical for businesses to view AI governance not merely as a regulatory obligation but as an ethical imperative.',\n",
       "  'score': 0.6369636}]"
      ]
     },
     "execution_count": 8,
     "metadata": {},
     "output_type": "execute_result"
    }
   ],
   "source": [
    "tavily.invoke(\"Provide me the recent AI News\")"
   ]
  },
  {
   "cell_type": "code",
   "execution_count": 9,
   "metadata": {},
   "outputs": [],
   "source": [
    "tools = [arxiv, wiki, tavily]"
   ]
  },
  {
   "cell_type": "code",
   "execution_count": 10,
   "metadata": {},
   "outputs": [],
   "source": [
    "from langchain_groq import ChatGroq\n",
    "\n",
    "llm = ChatGroq(model=\"qwen-qwq-32b\")"
   ]
  },
  {
   "cell_type": "code",
   "execution_count": 11,
   "metadata": {},
   "outputs": [
    {
     "data": {
      "text/plain": [
       "AIMessage(content='\\n<think>\\nOkay, I need to explain what AI is. Let me start by recalling what I know. AI stands for Artificial Intelligence. But how do I define it properly? Maybe start with a simple definition first. It\\'s the simulation of human intelligence in machines. But wait, that\\'s pretty broad. I should break it down into key components.\\n\\nSo, AI involves tasks that typically require human intelligence, like learning, problem-solving, perception, and decision-making. But I should mention that it\\'s done by machines. Maybe mention different types of AI, like narrow or general. Oh, right, there\\'s the distinction between narrow (or weak) AI, which is designed for specific tasks, and general (or strong) AI, which can handle any intellectual task a human can. Though general AI isn\\'t really here yet, right?\\n\\nExamples of narrow AI would be things like Siri, Alexa, recommendation systems on Netflix or Amazon. They do specific tasks really well but aren\\'t sentient. Then there\\'s machine learning, which is a subset of AI, where systems learn from data without being explicitly programmed. Deep learning is another subset, using neural networks to model data.\\n\\nI should also touch on applications. Like in healthcare for diagnostics, finance for fraud detection, autonomous vehicles, etc. Maybe mention some challenges: ethical issues, job displacement, bias in algorithms. But keep it concise.\\n\\nWait, the user might not know the difference between AI, machine learning, and deep learning. Maybe clarify those terms briefly. Also, maybe mention that AI systems can improve over time with more data. Oh, and the history? Maybe not necessary unless the user asks, but since the question is \"what is AI,\" maybe a quick mention of its origins in the 1950s?\\n\\nHmm, structure-wise, start with a definition, then break down components, types, applications, and challenges. Avoid jargon where possible, but still be accurate. Let me check if I missed anything important. The Turing Test is a concept related to AI, but maybe that\\'s more of a subtopic. Also, the difference between symbolic AI (rule-based) and connectionist (neural networks) approaches? Maybe too detailed for a general explanation.\\n\\nOkay, putting it all together in a coherent way. Start with the basic definition, then explain the key aspects, types, applications, and current state. Mention that it\\'s a broad field with various approaches and technologies. Highlight the difference between narrow and general AI. Make sure to clarify that AI isn\\'t a single technology but a field encompassing many techniques. Also, note that AI can be both software and hardware, like robotics. Alright, I think that covers the main points without getting too technical.\\n</think>\\n\\n**Artificial Intelligence (AI)** is a branch of computer science focused on creating systems that can perform tasks requiring human-like intelligence. These tasks include learning, problem-solving, perception, decision-making, and language understanding. AI systems aim to mimic cognitive functions such as reasoning, planning, and adaptation, often through algorithms and data analysis.\\n\\n### Key Components of AI:\\n1. **Machine Learning (ML):** A subset of AI where systems learn patterns from data to make predictions or decisions without explicit programming. Examples include spam filters and recommendation systems.\\n2. **Deep Learning (DL):** A specialized form of ML using neural networks inspired by the human brain. It powers advancements in image and speech recognition (e.g., facial recognition, voice assistants).\\n3. **Natural Language Processing (NLP):** Enables machines to understand and generate human language (e.g., chatbots, translators).\\n\\n### Types of AI:\\n- **Narrow (Weak) AI:** Designed for specific tasks. Examples include virtual assistants (Siri, Alexa), self-driving cars, and fraud detection systems. This is the most common type today.\\n- **General (Strong) AI:** Hypothetical systems capable of performing *any* intellectual task a human can, including creativity and abstract thinking. This remains theoretical and unachieved.\\n\\n### Applications:\\n- **Healthcare:** Diagnosing diseases, drug discovery, and personalized treatment plans.\\n- **Finance:** Fraud detection, algorithmic trading, and credit scoring.\\n- **Transportation:** Autonomous vehicles and traffic management systems.\\n- **Entertainment:** Personalized content recommendations (Netflix, Spotify).\\n- **Manufacturing:** Robotics and predictive maintenance.\\n\\n### Challenges and Considerations:\\n- **Ethical Concerns:** Bias in algorithms (e.g., facial recognition disparities), privacy issues, and autonomous weapons.\\n- **Job Impact:** Automation may displace certain roles but also create new opportunities.\\n- **Technical Limits:** Current systems lack true consciousness or common sense, relying heavily on the quality and quantity of training data.\\n\\n### History & Evolution:\\n- Originated in the 1950s with early research on logic-based systems. Modern advancements stem from improvements in computing power, big data, and breakthroughs in neural networks.\\n\\nIn summary, AI is a rapidly evolving field that combines software, mathematics, and engineering to build systems that emulate human intelligence, driving innovations across industries while posing important societal questions.', additional_kwargs={}, response_metadata={'token_usage': {'completion_tokens': 1034, 'prompt_tokens': 13, 'total_tokens': 1047, 'completion_time': 2.595542068, 'prompt_time': 0.003145258, 'queue_time': 0.458915091, 'total_time': 2.598687326}, 'model_name': 'qwen-qwq-32b', 'system_fingerprint': 'fp_a91d9c2cfb', 'finish_reason': 'stop', 'logprobs': None}, id='run-93c925b5-29df-45ea-837d-c7bc2f7321b1-0', usage_metadata={'input_tokens': 13, 'output_tokens': 1034, 'total_tokens': 1047})"
      ]
     },
     "execution_count": 11,
     "metadata": {},
     "output_type": "execute_result"
    }
   ],
   "source": [
    "llm.invoke(\"what is AI\")"
   ]
  },
  {
   "cell_type": "code",
   "execution_count": 12,
   "metadata": {},
   "outputs": [],
   "source": [
    "llm_with_tools = llm.bind_tools(tools=tools)"
   ]
  },
  {
   "cell_type": "code",
   "execution_count": 13,
   "metadata": {},
   "outputs": [
    {
     "data": {
      "text/plain": [
       "AIMessage(content='', additional_kwargs={'tool_calls': [{'id': 'call_7ym5', 'function': {'arguments': '{\"query\": \"recent news on AI\"}', 'name': 'tavily_search_results_json'}, 'type': 'function'}]}, response_metadata={'token_usage': {'completion_tokens': 166, 'prompt_tokens': 356, 'total_tokens': 522, 'completion_time': 0.420450016, 'prompt_time': 0.088402552, 'queue_time': 0.144419661, 'total_time': 0.508852568}, 'model_name': 'qwen-qwq-32b', 'system_fingerprint': 'fp_07cd5d759a', 'finish_reason': 'tool_calls', 'logprobs': None}, id='run-da7d752e-aeed-418d-b1ff-a97df537ba87-0', tool_calls=[{'name': 'tavily_search_results_json', 'args': {'query': 'recent news on AI'}, 'id': 'call_7ym5', 'type': 'tool_call'}], usage_metadata={'input_tokens': 356, 'output_tokens': 166, 'total_tokens': 522})"
      ]
     },
     "execution_count": 13,
     "metadata": {},
     "output_type": "execute_result"
    }
   ],
   "source": [
    "llm_with_tools.invoke(\"What is the recent news on AI?\")"
   ]
  },
  {
   "cell_type": "code",
   "execution_count": 14,
   "metadata": {},
   "outputs": [
    {
     "data": {
      "text/plain": [
       "AIMessage(content='', additional_kwargs={'tool_calls': [{'id': 'call_5ez2', 'function': {'arguments': '{\"query\": \"Quantum Computing\"}', 'name': 'arxiv'}, 'type': 'function'}]}, response_metadata={'token_usage': {'completion_tokens': 167, 'prompt_tokens': 357, 'total_tokens': 524, 'completion_time': 0.42501036, 'prompt_time': 0.060627954, 'queue_time': 2.1076340719999997, 'total_time': 0.485638314}, 'model_name': 'qwen-qwq-32b', 'system_fingerprint': 'fp_07cd5d759a', 'finish_reason': 'tool_calls', 'logprobs': None}, id='run-1baa64c9-276c-499f-91bb-a01d74216f59-0', tool_calls=[{'name': 'arxiv', 'args': {'query': 'Quantum Computing'}, 'id': 'call_5ez2', 'type': 'tool_call'}], usage_metadata={'input_tokens': 357, 'output_tokens': 167, 'total_tokens': 524})"
      ]
     },
     "execution_count": 14,
     "metadata": {},
     "output_type": "execute_result"
    }
   ],
   "source": [
    "llm_with_tools.invoke(\"What is the latest research on Quantum Computing?\")"
   ]
  },
  {
   "cell_type": "markdown",
   "metadata": {},
   "source": [
    "## Workflow "
   ]
  },
  {
   "cell_type": "code",
   "execution_count": 15,
   "metadata": {},
   "outputs": [],
   "source": [
    "from typing_extensions import TypedDict\n",
    "from langchain_core.messages import AnyMessage\n",
    "from typing import Annotated\n",
    "from langgraph.graph.message import add_messages"
   ]
  },
  {
   "cell_type": "code",
   "execution_count": 16,
   "metadata": {},
   "outputs": [],
   "source": [
    "class State(TypedDict) :\n",
    "    messages: Annotated[list[AnyMessage], add_messages]\n",
    "    "
   ]
  },
  {
   "cell_type": "code",
   "execution_count": null,
   "metadata": {},
   "outputs": [],
   "source": []
  }
 ],
 "metadata": {
  "kernelspec": {
   "display_name": "Python 3",
   "language": "python",
   "name": "python3"
  },
  "language_info": {
   "codemirror_mode": {
    "name": "ipython",
    "version": 3
   },
   "file_extension": ".py",
   "mimetype": "text/x-python",
   "name": "python",
   "nbconvert_exporter": "python",
   "pygments_lexer": "ipython3",
   "version": "3.10.0"
  }
 },
 "nbformat": 4,
 "nbformat_minor": 2
}
