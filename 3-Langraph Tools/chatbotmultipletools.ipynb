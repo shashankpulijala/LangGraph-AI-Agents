{
 "cells": [
  {
   "cell_type": "code",
   "execution_count": 1,
   "metadata": {},
   "outputs": [],
   "source": [
    "from langchain_community.tools import ArxivQueryRun, WikipediaQueryRun\n",
    "from langchain_community.utilities import WikipediaAPIWrapper, ArxivAPIWrapper"
   ]
  },
  {
   "cell_type": "code",
   "execution_count": 2,
   "metadata": {},
   "outputs": [
    {
     "name": "stdout",
     "output_type": "stream",
     "text": [
      "arxiv\n"
     ]
    }
   ],
   "source": [
    "api_wrapper_arxiv = ArxivAPIWrapper(top_k_results=2, doc_content_chars_max= 500,)\n",
    "arxiv = ArxivQueryRun(api_wrapper=api_wrapper_arxiv, description=\"Query Arxiv Papers\")\n",
    "print(arxiv.name)"
   ]
  },
  {
   "cell_type": "code",
   "execution_count": 9,
   "metadata": {},
   "outputs": [
    {
     "name": "stdout",
     "output_type": "stream",
     "text": [
      "wikipedia\n"
     ]
    }
   ],
   "source": [
    "api_wrapper_wiki = WikipediaAPIWrapper(top_k_results=2, doc_content_chars_max= 500,)\n",
    "wiki = WikipediaQueryRun(api_wrapper=api_wrapper_wiki)\n",
    "print(wiki.name)"
   ]
  },
  {
   "cell_type": "code",
   "execution_count": 10,
   "metadata": {},
   "outputs": [
    {
     "data": {
      "text/plain": [
       "'Page: Attention Is All You Need\\nSummary: \"Attention Is All You Need\" is a 2017 landmark research paper in machine learning authored by eight scientists working at Google. The paper introduced a new deep learning architecture known as the transformer, based on the attention mechanism proposed in 2014 by Bahdanau et al. It is considered a foundational paper in modern artificial intelligence, and a main contributor to the AI boom, as the transformer approach has become the main architecture of a wi'"
      ]
     },
     "execution_count": 10,
     "metadata": {},
     "output_type": "execute_result"
    }
   ],
   "source": [
    "wiki.invoke(\"Attention is all you need\")"
   ]
  },
  {
   "cell_type": "code",
   "execution_count": 3,
   "metadata": {},
   "outputs": [
    {
     "data": {
      "text/plain": [
       "\"Published: 2024-07-22\\nTitle: Attention Is All You Need But You Don't Need All Of It For Inference of Large Language Models\\nAuthors: Georgy Tyukin, Gbetondji J-S Dovonon, Jean Kaddour, Pasquale Minervini\\nSummary: The inference demand for LLMs has skyrocketed in recent months, and serving\\nmodels with low latencies remains challenging due to the quadratic input length\\ncomplexity of the attention layers. In this work, we investigate the effect of\\ndropping MLP and attention layers at inference time o\""
      ]
     },
     "execution_count": 3,
     "metadata": {},
     "output_type": "execute_result"
    }
   ],
   "source": [
    "arxiv.invoke(\"Attention is all you need\")"
   ]
  },
  {
   "cell_type": "code",
   "execution_count": 4,
   "metadata": {},
   "outputs": [],
   "source": [
    "from dotenv import load_dotenv\n",
    "load_dotenv()\n",
    "import os\n",
    "os.environ[\"TAVILY_API_KEY\"] = os.getenv(\"TAVILY_API_KEY\")\n",
    "os.environ[\"GROQ_API_KEY\"] = os.getenv(\"GROQ_API_KEY\")"
   ]
  },
  {
   "cell_type": "code",
   "execution_count": 5,
   "metadata": {},
   "outputs": [],
   "source": [
    "from langchain_community.tools.tavily_search import TavilySearchResults\n",
    "tavily = TavilySearchResults()"
   ]
  },
  {
   "cell_type": "code",
   "execution_count": 6,
   "metadata": {},
   "outputs": [
    {
     "data": {
      "text/plain": [
       "[{'title': 'AI News | Latest AI News, Analysis & Events',\n",
       "  'url': 'https://www.artificialintelligence-news.com/',\n",
       "  'content': 'March 4, 2025\\nAutoscience Carl: The first AI scientist writing peer-reviewed papers\\nApplications\\nMarch 3, 2025\\nDeep Learning\\nAlibaba Qwen QwQ-32B: Scaled reinforcement learning showcase\\nArtificial Intelligence\\nMarch 6, 2025\\nDeepSeek-R1 reasoning models rival OpenAI in performance\\nArtificial Intelligence\\nJanuary 20, 2025\\nNew AI training techniques aim to overcome current challenges\\nDeep & Reinforcement Learning\\nNovember 28, 2024 [...] AI News\\nMarch 20, 2025\\nUK minister in US to pitch Britain as global AI investment hub\\n\\nTelecoms Tech News\\nMarch 20, 2025\\nOfcom plans rules to drive UK full-fibre broadband to 96% coverage\\n\\nMarketing Tech News\\nMarch 20, 2025\\nOracle continues talks with White House to run TikTok\\n\\nMarketing Tech News\\nMarch 19, 2025\\nSocial media platforms face fines and criminal prosecution in UK\\n\\nAI News\\nMarch 19, 2025\\nNVIDIA Dynamo: Scaling AI inference with open-source efficiency [...] Artificial Intelligence\\nMarch 14, 2025\\nOpenAI and Google call for US government action to secure AI lead\\n\\nArtificial Intelligence\\nMarch 14, 2025\\nCBRE: Leveraging Artificial Intelligence for business growth\\n\\nAGI\\nMarch 14, 2025\\nManus AI agent: breakthrough in China’s agentic AI\\n\\nApplications\\nMarch 13, 2025\\nServiceNow deploys AI agents to boost enterprise workflows',\n",
       "  'score': 0.8014549},\n",
       " {'title': 'Artificial Intelligence News - ScienceDaily',\n",
       "  'url': 'https://www.sciencedaily.com/news/computers_math/artificial_intelligence/',\n",
       "  'content': \"Tuesday, November 12, 2024\\n\\nGiving Robots Superhuman Vision Using Radio Signals\\n\\nMonday, November 11, 2024\\n\\nAI Can Detect Serious Neurologic Changes in Babies in the NICU Using Video Data Alone\\nRobot That Watched Surgery Videos Performs With Skill of Human Doctor, Researchers Report\\n\\nThursday, November 7, 2024\\n\\nRobot Learns How to Clean a Washbasin\\n\\nWednesday, November 6, 2024\\n\\nAI-Driven Mobile Robots Team Up to Tackle Chemical Synthesis\\n\\nThursday, October 31, 2024 [...] Using Robots in Nursing Homes Linked to Higher Employee Retention, Better Patient Care\\n\\nMonday, January 6, 2025\\n\\nAI Slashes Cost and Time for Chip Design, but That Is Not All\\n\\nThursday, January 2, 2025\\n\\nArtificial Intelligence: Algorithms Improve Medical Image Analysis\\n\\nFriday, December 27, 2024\\n\\nCrossing the Uncanny Valley: Breakthrough in Technology for Lifelike Facial Expressions in Androids\\n\\nThursday, December 26, 2024\\n\\nWind Sensing by Biomimetic Flexible Flapping Wing With Strain Sensors [...] Thursday, December 19, 2024\\n\\nMachine Psychology: A Bridge to General AI?\\nLaser-Based Artificial Neuron Mimics Nerve Cell Functions at Lightning Speed\\n\\nWednesday, December 18, 2024\\n\\nSwarms of 'ant-Like' Robots Lift Heavy Objects and Hurl Themselves Over Obstacles\\n\\nTuesday, December 17, 2024\\n\\nDeveloping Artificial Intelligence Tools for Health Care\\nTiny Robots, Big Impact: Revolutionizing Infertility Treatment With Magnetic Microrobots\\n\\nMonday, December 16, 2024\",\n",
       "  'score': 0.7493996},\n",
       " {'title': 'AI News & Artificial Intelligence | TechCrunch',\n",
       "  'url': 'https://techcrunch.com/category/artificial-intelligence/',\n",
       "  'content': 'Maxwell Zeff\\n\\n4 days ago\\n\\n\\n\\nMedia & Entertainment\\nYouTube rolls out a free AI music-making tool for creators\\n\\nSarah Perez\\n\\n4 days ago\\n\\n\\n\\nAI\\nAmazon CEO Andy Jassy urges companies to invest heavily in AI\\n\\nRebecca Szkutak\\n\\n4 days ago\\n\\n\\n\\nClimate\\nGoogle thinks AI can untangle the electrical grid’s bureaucracy\\n\\nTim De Chant\\n\\n4 days ago\\n\\n\\n\\nAI\\nIncident.io raises $62M at a $400M valuation to help IT teams move fast when things break\\n\\nIngrid Lunden\\n\\n4 days ago [...] AI\\nThe rise of AI ‘reasoning’ models is making benchmarking more expensive\\n\\nKyle Wiggers\\n\\n4 days ago\\n\\n\\n\\nFintech\\nAI insurtech Ominimo bags its first investment at a $220M valuation\\n\\nIngrid Lunden\\n\\n4 days ago\\n\\n\\n\\nAI\\nElon Musk’s AI company, xAI, launches an API for Grok 3\\n\\nKyle Wiggers\\n\\n4 days ago\\n\\n\\n\\nAI\\nGoogle to embrace Anthropic’s standard for connecting AI models to data\\n\\nKyle Wiggers\\n\\n5 days ago\\n\\n\\n\\nAI\\nOpenAI countersues Elon Musk, calls for enjoinment from ‘further unlawful and unfair action’ [...] AI\\nAI models still struggle to debug software, Microsoft study shows\\n\\nKyle Wiggers\\n\\n4 days ago\\n\\n\\n\\nAI\\nThe US Secretary of Education referred to AI as ‘A1,’ like the steak sauce\\n\\nAmanda Silberling\\n\\n4 days ago\\n\\n\\n\\nApps\\nCanva is getting AI image generation, interactive coding, spreadsheets, and more\\n\\nIvan Mehta\\n\\n4 days ago\\n\\n\\n\\nAI\\nLiveKit’s tools power real-time communications, including OpenAI’s Voice Mode\\n\\nKyle Wiggers\\n\\n4 days ago\\n\\n\\n\\nAI\\nOpenAI updates ChatGPT to reference your past chats',\n",
       "  'score': 0.69968605}]"
      ]
     },
     "execution_count": 6,
     "metadata": {},
     "output_type": "execute_result"
    }
   ],
   "source": [
    "tavily.invoke(\"Provide me the recent AI News\")"
   ]
  },
  {
   "cell_type": "code",
   "execution_count": 11,
   "metadata": {},
   "outputs": [],
   "source": [
    "tools = [arxiv, wiki, tavily]"
   ]
  },
  {
   "cell_type": "code",
   "execution_count": 12,
   "metadata": {},
   "outputs": [],
   "source": [
    "from langchain_groq import ChatGroq\n",
    "\n",
    "llm = ChatGroq(model=\"qwen-qwq-32b\")"
   ]
  },
  {
   "cell_type": "code",
   "execution_count": 13,
   "metadata": {},
   "outputs": [
    {
     "data": {
      "text/plain": [
       "AIMessage(content='\\n<think>\\nOkay, the user is asking, \"What is AI?\" I need to provide a clear and comprehensive explanation. Let me start by defining AI in simple terms. AI stands for Artificial Intelligence, right? So, I should explain that it\\'s about making machines that can perform tasks requiring human-like intelligence. But wait, maybe I should break it down more.\\n\\nFirst, I should mention that AI refers to the simulation of human intelligence in machines. But intelligence is a broad term. What aspects of intelligence are we talking about? Like, things like learning, problem-solving, perception, and language understanding. Maybe I should list those elements.\\n\\nThen, maybe categorize AI into types. There\\'s the distinction between narrow or weak AI and general or strong AI. Narrow AI is what we have now, like voice assistants or recommendation systems. They\\'re good at specific tasks but lack general intelligence. General AI, or AGI, is hypothetical, where a machine could handle any intellectual task a human can. That\\'s important to clarify so people don\\'t think we\\'re there yet.\\n\\nI should also touch on how AI works. Maybe mention machine learning and deep learning here. Machine learning is a subset of AI where systems learn from data. Neural networks, especially deep learning with multiple layers, are key in achieving results in areas like image or speech recognition. But I need to explain that in simple terms without getting too technical.\\n\\nApplications of AI are widespread. Examples like virtual assistants (Siri, Alexa), recommendation systems (Netflix, Amazon), self-driving cars, and medical diagnosis. These examples make it relatable. Also, mention other areas like finance, gaming, and customer service.\\n\\nThen there\\'s the importance of data. AI systems require large datasets to learn from. The quality and quantity of data affect their performance. Maybe add a note about how AI can be biased if the data isn\\'t diverse enough.\\n\\nI should also address the current state and future potential. Emphasize that while we\\'ve made progress in specific tasks, true general AI is still in development. Ethical considerations are crucial too—privacy, job displacement, and AI misuse. Maybe briefly touch on those points to give a balanced view.\\n\\nWait, the user might also be interested in the history or some key milestones. Should I include that? Maybe not necessary unless it\\'s crucial. Since the question is straightforward, perhaps stick to the basics unless the user asks for more details later.\\n\\nAlso, clarify any common misconceptions. Some people think AI is just robots, but it\\'s broader than that. It\\'s about intelligence, not necessarily physical form. Maybe mention that.\\n\\nStructure-wise, start with a definition, then break it down into components, types, how it works, applications, data importance, current state, ethics, and maybe the difference between AI and robotics. Keep it organized so it\\'s easy to follow.\\n\\nLet me check if I\\'m missing anything. Oh, maybe mention specific techniques like natural language processing (NLP) for understanding language, computer vision for image processing. These are subsets of AI applications.\\n\\nI should also explain the difference between AI and machine learning. Since machine learning is a subset, it\\'s part of how AI achieves its goals. Maybe a brief note on that.\\n\\nOkay, putting it all together in a coherent way. Make sure to define terms without jargon, use examples, and ensure clarity. Avoid being too technical but still informative. Alright, let\\'s structure the answer step by step, starting from the basics and building up with examples and key points.\\n</think>\\n\\n**Artificial Intelligence (AI)** refers to the simulation of human intelligence in machines to perform tasks that typically require human-like reasoning, learning, and decision-making. Here\\'s a structured breakdown:\\n\\n### 1. **Definition**  \\nAI enables machines to perceive, learn from data, and make decisions with varying degrees of autonomy. It encompasses fields like robotics, natural language processing (NLP), computer vision, and more.\\n\\n---\\n\\n### 2. **Key Components of Intelligence (Modeled in AI):**  \\n- **Learning:** Ability to improve performance through experience (e.g., learning from data).  \\n- **Reasoning:** Drawing conclusions, solving problems, or making decisions.  \\n- **Perception:** Interpreting sensory inputs (e.g., images, speech, or text).  \\n- **Language Understanding:** Processing and generating human language (e.g., chatbots, virtual assistants).  \\n\\n---\\n\\n### 3. **Types of AI:**  \\n- **Narrow (Weak) AI:** Designed for **specific tasks**. Examples include:  \\n  - **Voice assistants** (e.g., Siri, Alexa).  \\n  - **Recommendation systems** (e.g., Netflix, Spotify).  \\n  - **Autonomous vehicles** (self-driving cars).  \\n  - **Medical diagnosis tools** (e.g., detecting diseases in scans).  \\n\\n- **General (Strong) AI (AGI):** Hypothetical AI that can perform **any intellectual task a human can**, with broad, flexible intelligence. This is still theoretical and not yet achieved.  \\n\\n---\\n\\n### 4. **How AI Works:**  \\nAI relies on **machine learning (ML)** and **deep learning** (a subset of ML using neural networks):  \\n- **Machine Learning:** Systems analyze data to identify patterns and make predictions (e.g., email spam filters).  \\n- **Deep Learning:** Uses layered neural networks to process complex data (e.g., facial recognition, language translation).  \\n\\n---\\n\\n### 5. **Applications:**  \\n- **Healthcare:** Diagnosing diseases, drug discovery, robotic surgery.  \\n- **Finance:** Fraud detection, algorithmic trading, risk assessment.  \\n- **Entertainment:** Content recommendations, video game NPCs (non-playable characters).  \\n- **Manufacturing:** Predictive maintenance, quality control.  \\n- **Daily Life:** Smart home devices (e.g., thermostats, speakers).  \\n\\n---\\n\\n### 6. **Data\\'s Role:**  \\nAI systems require **large, high-quality datasets** to learn and improve. Poor or biased data can lead to flawed outputs (e.g., racial/ethnic biases in facial recognition systems).  \\n\\n---\\n\\n### 7. **Current State:**  \\n- **Progress:** Tremendous advancements in narrow AI (e.g., chatbots, self-driving cars).  \\n- **Limitations:** Today’s AI lacks true \"understanding\" or consciousness. It follows patterns but doesn’t \"think\" like humans.  \\n\\n---\\n\\n### 8. **Ethical and Societal Considerations:**  \\n- **Bias and Fairness:** Ensuring AI doesn’t perpetuate societal biases.  \\n- **Privacy:** Safeguarding data used to train AI systems.  \\n- **Job Impact:** Automation may disrupt industries, requiring workforce adaptation.  \\n- **Security:** Preventing misuse in areas like deepfakes or autonomous weapons.  \\n\\n---\\n\\n### 9. **Common Misconceptions:**  \\n- **AI ≠ Robots:** While robots can use AI, not all AI is physical (e.g., chatbots or recommendation engines).  \\n- **Human-Level Intelligence:** Current AI is task-specific; AGI remains a distant goal.  \\n\\n---\\n\\n### 10. **Future Potential:**  \\nResearch focuses on advancing AI in areas like:  \\n- **General AI (AGI):** Achieving human-like adaptability.  \\n- **Ethical AI:** Ensuring responsible development and deployment.  \\n\\n---\\n\\nIn summary, AI is a transformative technology that enhances efficiency and innovation but requires careful management to address ethical and practical challenges.', additional_kwargs={}, response_metadata={'token_usage': {'completion_tokens': 1530, 'prompt_tokens': 13, 'total_tokens': 1543, 'completion_time': 3.730433833, 'prompt_time': 0.002865192, 'queue_time': 0.12227498899999999, 'total_time': 3.733299025}, 'model_name': 'qwen-qwq-32b', 'system_fingerprint': 'fp_07cd5d759a', 'finish_reason': 'stop', 'logprobs': None}, id='run-fbfdca8d-6b2b-4ed6-9923-f1582ae85d61-0', usage_metadata={'input_tokens': 13, 'output_tokens': 1530, 'total_tokens': 1543})"
      ]
     },
     "execution_count": 13,
     "metadata": {},
     "output_type": "execute_result"
    }
   ],
   "source": [
    "llm.invoke(\"what is AI\")"
   ]
  },
  {
   "cell_type": "code",
   "execution_count": 15,
   "metadata": {},
   "outputs": [],
   "source": [
    "llm_with_tools = llm.bind_tools(tools=tools)"
   ]
  },
  {
   "cell_type": "code",
   "execution_count": 16,
   "metadata": {},
   "outputs": [
    {
     "data": {
      "text/plain": [
       "AIMessage(content='', additional_kwargs={'tool_calls': [{'id': 'call_mgyp', 'function': {'arguments': '{\"query\": \"recent news on AI\"}', 'name': 'tavily_search_results_json'}, 'type': 'function'}]}, response_metadata={'token_usage': {'completion_tokens': 245, 'prompt_tokens': 356, 'total_tokens': 601, 'completion_time': 0.609613572, 'prompt_time': 0.054247748, 'queue_time': 0.386715974, 'total_time': 0.66386132}, 'model_name': 'qwen-qwq-32b', 'system_fingerprint': 'fp_512a3da6bb', 'finish_reason': 'tool_calls', 'logprobs': None}, id='run-14126f06-3f0d-4f84-b72c-a452ad27b677-0', tool_calls=[{'name': 'tavily_search_results_json', 'args': {'query': 'recent news on AI'}, 'id': 'call_mgyp', 'type': 'tool_call'}], usage_metadata={'input_tokens': 356, 'output_tokens': 245, 'total_tokens': 601})"
      ]
     },
     "execution_count": 16,
     "metadata": {},
     "output_type": "execute_result"
    }
   ],
   "source": [
    "llm_with_tools.invoke(\"What is the recent news on AI?\")"
   ]
  },
  {
   "cell_type": "code",
   "execution_count": 17,
   "metadata": {},
   "outputs": [
    {
     "data": {
      "text/plain": [
       "AIMessage(content='', additional_kwargs={'tool_calls': [{'id': 'call_n0ap', 'function': {'arguments': '{\"query\": \"Quantum Computing\"}', 'name': 'arxiv'}, 'type': 'function'}]}, response_metadata={'token_usage': {'completion_tokens': 160, 'prompt_tokens': 357, 'total_tokens': 517, 'completion_time': 0.39967818, 'prompt_time': 0.045403762, 'queue_time': 0.16179084700000002, 'total_time': 0.445081942}, 'model_name': 'qwen-qwq-32b', 'system_fingerprint': 'fp_512a3da6bb', 'finish_reason': 'tool_calls', 'logprobs': None}, id='run-5f6d28d6-8d5f-48f2-8b64-08219e6a177d-0', tool_calls=[{'name': 'arxiv', 'args': {'query': 'Quantum Computing'}, 'id': 'call_n0ap', 'type': 'tool_call'}], usage_metadata={'input_tokens': 357, 'output_tokens': 160, 'total_tokens': 517})"
      ]
     },
     "execution_count": 17,
     "metadata": {},
     "output_type": "execute_result"
    }
   ],
   "source": [
    "llm_with_tools.invoke(\"What is the latest research on Quantum Computing?\")"
   ]
  },
  {
   "cell_type": "markdown",
   "metadata": {},
   "source": [
    "## Workflow "
   ]
  },
  {
   "cell_type": "code",
   "execution_count": 18,
   "metadata": {},
   "outputs": [],
   "source": [
    "from typing_extensions import TypedDict\n",
    "from langchain_core.messages import AnyMessage\n",
    "from typing import Annotated\n",
    "from langgraph.graph.message import add_messages"
   ]
  },
  {
   "cell_type": "code",
   "execution_count": null,
   "metadata": {},
   "outputs": [],
   "source": []
  }
 ],
 "metadata": {
  "kernelspec": {
   "display_name": "Python 3",
   "language": "python",
   "name": "python3"
  },
  "language_info": {
   "codemirror_mode": {
    "name": "ipython",
    "version": 3
   },
   "file_extension": ".py",
   "mimetype": "text/x-python",
   "name": "python",
   "nbconvert_exporter": "python",
   "pygments_lexer": "ipython3",
   "version": "3.10.0"
  }
 },
 "nbformat": 4,
 "nbformat_minor": 2
}
